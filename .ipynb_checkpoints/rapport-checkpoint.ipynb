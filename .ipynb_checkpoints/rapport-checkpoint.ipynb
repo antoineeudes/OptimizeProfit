{
 "cells": [
  {
   "cell_type": "markdown",
   "metadata": {},
   "source": [
    "# Optimisation de profit\n",
    "\n",
    "## Modélisation\n",
    "On pose $T = 7$, $s_t$ le stock au matin du jour $t$, $u_t$ la marchandise livrée au jour $t$ et $d_{t}$ la demande du jour $t$.\n",
    "\n",
    "On pose\n",
    "\n",
    "$$\n",
    "f(s_t, u_t, d_{t}) = (s_t + u_t - d_t)^+\n",
    "$$\n",
    "\n",
    "On a alors $s_{t+1} = f(s_t, u_t, d_t)$. On définit également une fonction coût :\n",
    "\\begin{equation}\n",
    "L(s_t, a_t, d_{t}) = \\left\\{\n",
    "    \\begin{array}{ll}\n",
    "        2min(s_t+u_t,~ d_{t}) - u_t & \\mbox{si } s_t + u_t \\leq 50 ~\\mbox{et } u_t \\leq 10 \\\\\n",
    "        - \\infty & \\mbox{sinon.}\n",
    "    \\end{array}\n",
    "\\right.\n",
    "\\end{equation}\n",
    "On obtient alors le problème stochastique suivant :\n",
    "\n",
    "\\begin{equation}\n",
    "\\max~\\mathbb{E}\\Big[\\sum_{t=1}^{T}\\mathcal{L}(s_t, u_t, d_t)\\Big]\n",
    "\\end{equation}"
   ]
  },
  {
   "cell_type": "markdown",
   "metadata": {},
   "source": [
    "## Equation de programmation dynamique\n",
    "On propose l'équation de la dynamique suivante :\n",
    "\\begin{equation}\n",
    "\\left\\{\n",
    "    \\begin{array}{ll}\n",
    "        V_0(s) = 0  \\\\\n",
    "        V_{t+1}(s) = \\min_{u \\in   [0, min(10, ~50-s)]} \\mathbb{E}\\Big[\\mathcal{L}(s,u,d_t) + V_{t+1} \\circ f_t(s, u, d_t)\\Big]\n",
    "    \\end{array}\n",
    "\\right.\n",
    "\\end{equation}\n"
   ]
  },
  {
   "cell_type": "markdown",
   "metadata": {},
   "source": [
    "# Upper bound\n",
    "On recharge tous les jours 10 articles que l'on vend, upper bound = 70"
   ]
  },
  {
   "cell_type": "code",
   "execution_count": 6,
   "metadata": {},
   "outputs": [],
   "source": [
    "import numpy as np"
   ]
  },
  {
   "cell_type": "code",
   "execution_count": 89,
   "metadata": {},
   "outputs": [
    {
     "name": "stdout",
     "output_type": "stream",
     "text": [
      "55.0\n",
      "[[  0.   0.   8.  17.  27.  31.  35.  45. -inf]\n",
      " [  0.   1.   9.  18.  28.  32.  36.  46. -inf]\n",
      " [  0.   2.  10.  19.  29.  33.  37.  47. -inf]\n",
      " [  0.   3.  11.  20.  30.  34.  38.  48. -inf]\n",
      " [  0.   4.  12.  21.  31.  35.  39.  49. -inf]\n",
      " [  0.   5.  13.  20.  30.  34.  40.  50. -inf]\n",
      " [  0.   6.  14.  19.  29.  33.  41.  51. -inf]\n",
      " [  0.   7.  15.  18.  28.  32.  42.  52. -inf]\n",
      " [  0.   8.  14.  17.  27.  31.  43.  53. -inf]\n",
      " [  0.   7.  13.  16.  26.  30.  44.  54. -inf]\n",
      " [  0.   6.  12.  15.  25.  29.  45.  55. -inf]]\n",
      "\n",
      "\n",
      "[8, 7, 5, 7, 4, 24, 19, 0]\n",
      "[ 0.  8.  7.  4.  4.  4. 10.]\n",
      "[0, 0, 1, 3, 0, 0, 0, 0]\n"
     ]
    }
   ],
   "source": [
    "def L(stock, control, demand):\n",
    "    if stock+control > 50:\n",
    "        return -float('inf')\n",
    "    else:\n",
    "        return 2*min(stock+control, demand) - control\n",
    "\n",
    "class Solver:\n",
    "    def __init__(self, s0=10, number_of_days=7):\n",
    "        p = 1./2\n",
    "        self.days = number_of_days\n",
    "        self.controls = list(range(11))\n",
    "        self.optimal_controls = np.zeros(number_of_days)\n",
    "        self.bellman_table = np.zeros((50, number_of_days+2)) - float('inf')\n",
    "        self.bellman_table[:,0] = 0\n",
    "        self.stocks = [s0]\n",
    "        self.n_t = [15, 12, 10 ,10, 10, 40, 40]\n",
    "        self.demands = [np.random.binomial(nt, p) for nt in self.n_t] + [0]\n",
    "        \n",
    "    def __str__(self):\n",
    "        return str(self.controls)\n",
    "    \n",
    "    def compute_strategy(self, control, t):\n",
    "\n",
    "        maxi = -float('inf')\n",
    "        optimal_control = 0\n",
    "        stock = self.stocks[t-1]\n",
    "        demand = self.demands[t-1]\n",
    "        \n",
    "        bellman_value = np.max(self.bellman_table[:, t-1]) + L(stock, control, demand)\n",
    "        optimal_control = np.argmax(self.bellman_table[:, t-1])\n",
    "        return bellman_value, optimal_control\n",
    "        \n",
    "    def update(self):\n",
    "        t = len(self.stocks)\n",
    "        for i in self.controls:\n",
    "            self.bellman_table[i, t], optimal_control = self.compute_strategy(i, t)\n",
    "        self.stocks.append(max(self.stocks[-1]+optimal_control-self.demands[t-1], 0))\n",
    "        self.optimal_controls[t-1] = optimal_control\n",
    "        \n",
    "    def get_optimal_profit(self):\n",
    "        for i in range(self.days):\n",
    "            self.update()\n",
    "            \n",
    "        for control in self.controls:\n",
    "            bellman_value, optimal_control = self.compute_strategy(control, self.days+1)\n",
    "            self.optimal_controls[-1] = optimal_control\n",
    "            \n",
    "        return np.max(self.bellman_table[:,self.days])\n",
    "\n",
    "s = Solver(s0=0)\n",
    "\n",
    "\n",
    "print(s.get_optimal_profit())\n",
    "print(s.bellman_table)\n",
    "print('\\n')\n",
    "print(s.demands)\n",
    "print(s.optimal_controls)\n",
    "print(s.stocks)\n",
    "\n",
    "\n"
   ]
  },
  {
   "cell_type": "code",
   "execution_count": null,
   "metadata": {},
   "outputs": [],
   "source": []
  },
  {
   "cell_type": "code",
   "execution_count": null,
   "metadata": {},
   "outputs": [],
   "source": []
  }
 ],
 "metadata": {
  "kernelspec": {
   "display_name": "Python 3",
   "language": "python",
   "name": "python3"
  },
  "language_info": {
   "codemirror_mode": {
    "name": "ipython",
    "version": 3
   },
   "file_extension": ".py",
   "mimetype": "text/x-python",
   "name": "python",
   "nbconvert_exporter": "python",
   "pygments_lexer": "ipython3",
   "version": "3.5.2"
  }
 },
 "nbformat": 4,
 "nbformat_minor": 2
}
